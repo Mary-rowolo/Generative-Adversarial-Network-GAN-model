{
 "cells": [
  {
   "cell_type": "code",
   "execution_count": 1,
   "id": "44326d12",
   "metadata": {},
   "outputs": [
    {
     "name": "stderr",
     "output_type": "stream",
     "text": [
      "C:\\Users\\HP\\anaconda3\\lib\\site-packages\\scipy\\__init__.py:146: UserWarning: A NumPy version >=1.16.5 and <1.23.0 is required for this version of SciPy (detected version 1.26.2\n",
      "  warnings.warn(f\"A NumPy version >={np_minversion} and <{np_maxversion}\"\n"
     ]
    }
   ],
   "source": [
    "import numpy as np\n",
    "import seaborn as sns\n",
    "import torch\n",
    "import torch.nn as nn\n",
    "import matplotlib.pyplot as plt\n",
    "from IPython.display import clear_output\n",
    "%matplotlib inline"
   ]
  },
  {
   "cell_type": "code",
   "execution_count": 2,
   "id": "caa8c855",
   "metadata": {},
   "outputs": [],
   "source": [
    "def get_uniform(batch_size):\n",
    "    return torch.rand(batch_size, 1)"
   ]
  },
  {
   "cell_type": "code",
   "execution_count": 3,
   "id": "59418926",
   "metadata": {},
   "outputs": [],
   "source": [
    "def get_normal(batch_size):\n",
    "    return torch.randn(batch_size, 1) + 5"
   ]
  },
  {
   "cell_type": "code",
   "execution_count": 4,
   "id": "a2fe449b",
   "metadata": {},
   "outputs": [],
   "source": [
    "class Generator(nn.Module):\n",
    "    def __init__(self):\n",
    "        \n",
    "        \"\"\"Generator transform the uniform distribution to the normal distribution\"\"\"\n",
    "        \n",
    "        super().__init__()\n",
    "        self.main = nn.Sequential(\n",
    "                    nn.Linear(in_features = 1, out_features = 16),\n",
    "                    nn.ReLU(),\n",
    "                    nn.Linear(in_features = 16, out_features = 1)\n",
    "        )\n",
    "    def forward(self, x):\n",
    "        return self.main(x)\n",
    "\n",
    "class Discriminator(nn.Module):\n",
    "    \n",
    "    def __init__(self):\n",
    "        \"\"\"disc(x) return probability of x to be real class\"\"\"\n",
    "        super().__init__()\n",
    "        self.main = nn.Sequential(\n",
    "                    nn.Linear(in_features = 1, out_features = 16),\n",
    "                    nn.ReLU(),\n",
    "                    nn.Linear(in_features = 16, out_features = 1),\n",
    "                    nn.Sigmoid()\n",
    "    \n",
    "            )\n",
    "    def forward(self, x):\n",
    "        return self.main(x)\n",
    "    \n",
    "gen = Generator()\n",
    "disc = Discriminator()"
   ]
  },
  {
   "cell_type": "markdown",
   "id": "0ad19164",
   "metadata": {},
   "source": [
    "### Defining the optimizer of the system"
   ]
  },
  {
   "cell_type": "code",
   "execution_count": 5,
   "id": "037e5190",
   "metadata": {},
   "outputs": [],
   "source": [
    "generator_opt = torch.optim.SGD(gen.parameters(), lr = 1e-3)\n",
    "discriminator_opt = torch.optim.SGD(disc.parameters(), lr = 1e-3)"
   ]
  },
  {
   "cell_type": "code",
   "execution_count": 6,
   "id": "f5a7c4a4",
   "metadata": {},
   "outputs": [],
   "source": [
    "def update_D(batch_size):\n",
    "    \"\"\"\n",
    "    1. sample real data\n",
    "    2. Compute probability of real object to be real\n",
    "    \"\"\"\n",
    "    \n",
    "    real_samples = get_normal(batch_size)\n",
    "    prob_real_is_real = disc(real_samples)\n",
    "    \n",
    "    \n",
    "    \"\"\"\n",
    "    1. sample noise\n",
    "    2. ontain generated samples\n",
    "    3. compute probability of fake objet to be fake\n",
    "    \"\"\"\n",
    "    \n",
    "    noise = get_uniform(batch_size)\n",
    "    generated_samples = gen(noise)\n",
    "    prob_fake_is_fake = 1 - disc(generated_samples)\n",
    "    \n",
    "    \n",
    "    # compute loss function\n",
    "    loss = (- torch.log(prob_real_is_real) - torch.log(prob_fake_is_fake)).mean()\n",
    "    \n",
    "    #make gradient step\n",
    "    discriminator_opt.zero_grad()\n",
    "    loss.backward()\n",
    "    discriminator_opt.step()\n",
    "    \n",
    "    return loss.data.numpy().item()"
   ]
  },
  {
   "cell_type": "code",
   "execution_count": 7,
   "id": "15ac0ccb",
   "metadata": {},
   "outputs": [],
   "source": [
    "def update_G(batch_size):\n",
    "    #. sample noise\n",
    "    #. obtain generated samples\n",
    "    #. compute probability of fake object to be real\n",
    "    \n",
    "    noise = get_uniform(batch_size)\n",
    "    generated_samples = gen(noise)\n",
    "    prob_fake_is_real = disc(generated_samples)\n",
    "    \n",
    "    #compute loss function\n",
    "    \n",
    "    loss = (-torch.log(prob_fake_is_real)).mean()\n",
    "    \n",
    "    # make gradient step\n",
    "    generator_opt.zero_grad()\n",
    "    loss.backward()\n",
    "    generator_opt.step()\n",
    "    \n",
    "    return loss.data.numpy().item()"
   ]
  },
  {
   "cell_type": "code",
   "execution_count": 8,
   "id": "9354b9ee",
   "metadata": {},
   "outputs": [
    {
     "data": {
      "image/png": "[encoded data removed]",
      "text/plain": [
       "<Figure size 720x720 with 1 Axes>"
      ]
     },
     "metadata": {
      "needs_background": "light"
     },
     "output_type": "display_data"
    }
   ],
   "source": [
    "\n",
    "N_DISC_OPERATIONS = 10 #number of updates for the discriminator on each iteration(should be tuned)\n",
    "BATCH_SIZE = 64\n",
    "\n",
    "\n",
    "for i in range(10000):\n",
    "    \n",
    "    for _ in range(N_DISC_OPERATIONS):\n",
    "        update_D(BATCH_SIZE)\n",
    "        \n",
    "    update_G(BATCH_SIZE)\n",
    "    \n",
    "    if i % 100 == 0:\n",
    "        clear_output(True)\n",
    "        plt.figure(figsize = [10, 10])\n",
    "        \n",
    "        sns.kdeplot(gen(get_uniform(1000)).data.numpy()[:, 0], label = 'Generated distribution')\n",
    "        sns.kdeplot(get_normal(1000).data.numpy()[:, 0], label = 'Real distribution')\n",
    "        \n",
    "        x = np.linspace(0, 10, dtype = 'float32')\n",
    "        p_real = disc(torch.from_numpy(x[:, None]))\n",
    "        plt.plot(x, p_real.data.numpy(), label = 'P(real)')\n",
    "        \n",
    "        #axes = plt.gca()\n",
    "        #axes.set_ylim([0,1])\n",
    "        plt.legend()\n",
    "        plt.show()"
   ]
  },
  {
   "cell_type": "code",
   "execution_count": null,
   "id": "e97bba65",
   "metadata": {},
   "outputs": [],
   "source": []
  }
 ],
 "metadata": {
  "kernelspec": {
   "display_name": "Python 3 (ipykernel)",
   "language": "python",
   "name": "python3"
  },
  "language_info": {
   "codemirror_mode": {
    "name": "ipython",
    "version": 3
   },
   "file_extension": ".py",
   "mimetype": "text/x-python",
   "name": "python",
   "nbconvert_exporter": "python",
   "pygments_lexer": "ipython3",
   "version": "3.12.7"
  }
 },
 "nbformat": 4,
 "nbformat_minor": 5
}
